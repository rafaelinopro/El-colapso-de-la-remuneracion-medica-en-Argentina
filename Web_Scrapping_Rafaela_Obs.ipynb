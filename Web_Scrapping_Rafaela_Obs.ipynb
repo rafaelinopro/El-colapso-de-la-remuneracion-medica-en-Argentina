{
 "cells": [
  {
   "cell_type": "code",
   "execution_count": 11,
   "metadata": {},
   "outputs": [],
   "source": [
    "# pip install selenium"
   ]
  },
  {
   "cell_type": "code",
   "execution_count": 13,
   "metadata": {},
   "outputs": [],
   "source": [
    "from selenium import webdriver\n",
    "from selenium.webdriver.common.by import By\n",
    "from selenium.webdriver.support.ui import WebDriverWait\n",
    "from selenium.webdriver.support import expected_conditions as EC\n",
    "from selenium.webdriver.common.action_chains import ActionChains\n",
    "import time"
   ]
  },
  {
   "cell_type": "code",
   "execution_count": 21,
   "metadata": {},
   "outputs": [],
   "source": [
    "#Configuración del navegador\n",
    "driver = webdriver.Firefox()  # Reemplaza esto con el driver de Selenium correspondiente a tu navegador\n",
    "\n",
    "# Datos de acceso a la página web\n",
    "usuario = 'asoc420'\n",
    "clave = 'asoc420'\n",
    "\n",
    "# URL de la página de inicio de sesión\n",
    "login_url = 'https://www.sfssrl.com/'  # URL de inicio de sesión\n",
    "\n",
    "# Iniciar el navegador y abrir la página de inicio de sesión\n",
    "driver.get(login_url)\n",
    "\n",
    "# Ingresar los datos de inicio de sesión\n",
    "driver.find_element(By.ID, 'user').send_keys(usuario)\n",
    "driver.find_element(By.ID, 'password').send_keys(clave)\n",
    "\n",
    "# Hacer clic en el botón de inicio de sesión\n",
    "\n",
    "# Hacer clic en el botón de inicio de sesión\n",
    "boton = driver.find_element(By.XPATH, '//*[@id=\"login\"]')\n",
    "\n",
    "action = ActionChains(driver)\n",
    "action.move_to_element(boton).perform()\n",
    "\n",
    "boton.click()\n",
    "\n",
    "# Hacer click en el menu Prestaciones\n",
    "# Encontrar y hacer clic en el botón de acceso a la tabla de archivos por ruta CSS\n",
    "boton_acceso_tabla = WebDriverWait(driver, 15).until(EC.visibility_of_element_located((By.XPATH, '//span[@class=\"v-menubar-menuitem-caption\"][text()=\"Prestaciones\"]')))\n",
    "boton_acceso_tabla.click()\n",
    "\n",
    "\n",
    "# Esperar un tiempo para cargar el detalle de prestaciones (ajusta según sea necesario)\n",
    "time.sleep(2)\n",
    "\n",
    "boton_detalle_prestaciones = driver.find_element(By.XPATH, '//span[@class=\"v-menubar-menuitem-caption\"][text()=\"Detalle de Prestaciones (Sabanas)\"]')\n",
    "boton_detalle_prestaciones.click()\n",
    "\n",
    "# Esperar un tiempo para cargar el detalle de prestaciones (ajusta según sea necesario)\n",
    "time.sleep(5)\n",
    "\n",
    "# Encontrar todos los botones de descarga dentro de la tabla\n",
    "botones_descarga = driver.find_elements(By.XPATH, '/html/body/div[1]/div/div[2]/div/div/div[5]/div/div[2]/div/div/div/div/div[3]/div/div[2]/div/div[3]/div[1]/table/tbody/tr/td[4]/div/div/span/span[1]')\n",
    "\n",
    "# Hacer clic en cada botón de descarga\n",
    "for boton_descarga in botones_descarga:\n",
    "    boton_descarga.click()\n",
    "    time.sleep(3)  # Pausa de 3 segundos entre cada clic\n",
    "\n",
    "# # Continuar con el proceso de descarga de los archivos\n",
    "\n",
    "# # Cerrar el navegador\n",
    "# # driver.quit()\n"
   ]
  }
 ],
 "metadata": {
  "kernelspec": {
   "display_name": "Python 3",
   "language": "python",
   "name": "python3"
  },
  "language_info": {
   "codemirror_mode": {
    "name": "ipython",
    "version": 3
   },
   "file_extension": ".py",
   "mimetype": "text/x-python",
   "name": "python",
   "nbconvert_exporter": "python",
   "pygments_lexer": "ipython3",
   "version": "3.7.4"
  },
  "orig_nbformat": 4
 },
 "nbformat": 4,
 "nbformat_minor": 2
}
